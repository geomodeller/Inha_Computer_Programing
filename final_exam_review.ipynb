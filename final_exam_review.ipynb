{
 "cells": [
  {
   "cell_type": "markdown",
   "metadata": {},
   "source": [
    "Two ways of handling exception"
   ]
  },
  {
   "cell_type": "code",
   "execution_count": null,
   "metadata": {},
   "outputs": [],
   "source": [
    "import os\n",
    "if os.path.isfile('not_existing_file'):\n",
    "    with open('not_existing_file', 'r') as f:\n",
    "        pass\n",
    "else:\n",
    "    \n",
    "    raise FileNotFoundError('No such file exist, please check if you have the file in a right location')"
   ]
  },
  {
   "cell_type": "code",
   "execution_count": null,
   "metadata": {},
   "outputs": [],
   "source": [
    "try:\n",
    "    with open('not_existing_file', 'r') as f:\n",
    "        pass\n",
    "except FileNotFoundError as e:\n",
    "    \n",
    "    raise e"
   ]
  },
  {
   "cell_type": "markdown",
   "metadata": {},
   "source": [
    "File I/O"
   ]
  },
  {
   "cell_type": "code",
   "execution_count": null,
   "metadata": {},
   "outputs": [],
   "source": [
    "with open('output.txt', 'wt') as f:\n",
    "    f.write(\"Hello, World!\\n\")\n",
    "    f.write(\"This is a second line.\\n\")\n",
    "    f.close()"
   ]
  },
  {
   "cell_type": "code",
   "execution_count": null,
   "metadata": {},
   "outputs": [],
   "source": [
    "import pickle \n",
    "contents = [\"Hello, World!\\n\", \"This is a second line.\\n\"]\n",
    "with open('output.bin', 'wb') as f:\n",
    "    pickle.dump(contents, f)"
   ]
  },
  {
   "cell_type": "code",
   "execution_count": null,
   "metadata": {},
   "outputs": [],
   "source": [
    "with open('output.bin', 'rb') as f:\n",
    "    loaded_contents = pickle.load(f)"
   ]
  },
  {
   "cell_type": "code",
   "execution_count": null,
   "metadata": {},
   "outputs": [],
   "source": [
    "loaded_contents"
   ]
  },
  {
   "cell_type": "code",
   "execution_count": null,
   "metadata": {},
   "outputs": [],
   "source": [
    "fruits = ['apple', 'banana', 'carrot']\n",
    "prices = [100, 200, 300]\n",
    "amounts = [1, 3, 2]\n"
   ]
  },
  {
   "cell_type": "code",
   "execution_count": null,
   "metadata": {},
   "outputs": [],
   "source": [
    "for i, fruit in enumerate(fruits):\n",
    "    print(fruit, i)"
   ]
  },
  {
   "cell_type": "code",
   "execution_count": null,
   "metadata": {},
   "outputs": [],
   "source": [
    "import pickle\n",
    "my_dictionary = dict(zip(fruits, prices))\n",
    "with open('fruit_price.pkl', 'wb') as f:\n",
    "    pickle.dump(my_dictionary, f)"
   ]
  },
  {
   "cell_type": "code",
   "execution_count": null,
   "metadata": {},
   "outputs": [],
   "source": [
    "print('Receipt'.center(30))\n",
    "print('*'*30)\n",
    "total_price=0\n",
    "for fruit, price, amount in zip(fruits, prices, amounts):\n",
    "    print(f'{fruit} {price}x{amount}  {amount*price}')\n",
    "    total_price += amount*price\n",
    "\n",
    "print(f'Total: {total_price:,}')\n",
    "print('*'*30)\n",
    "print('Thank you for shopping')"
   ]
  },
  {
   "cell_type": "code",
   "execution_count": null,
   "metadata": {},
   "outputs": [],
   "source": [
    "with open('receipt.txt', 'wt') as f:\n",
    "    f.write('Receipt'.center(30)+'\\n')\n",
    "    f.write('*'*30+'\\n')\n",
    "    total_price=0\n",
    "    for fruit, price, amount in zip(fruits, prices, amounts):\n",
    "        f.write(f'{fruit} {price}x{amount}  {amount*price} \\n')\n",
    "        total_price += amount*price\n",
    "    f.write(f'Total: {total_price:,} \\n')\n",
    "    f.write('*'*30 + '\\n')\n",
    "    f.write('Thank you for shopping')"
   ]
  },
  {
   "cell_type": "markdown",
   "metadata": {},
   "source": [
    "class getter-setter"
   ]
  },
  {
   "cell_type": "code",
   "execution_count": null,
   "metadata": {},
   "outputs": [],
   "source": [
    "class Person:\n",
    "    def __init__(self, name):\n",
    "       self.__name = name # Protected variable\n",
    "\n",
    "    @property\n",
    "    def name(self):\n",
    "        return self.__name\n",
    "    \n",
    "    @name.setter\n",
    "    def name(self, value):\n",
    "        if len(value) <3:\n",
    "            raise ValueError(\"Name must be at least 3 characters long\")\n",
    "        self.__name =value"
   ]
  },
  {
   "cell_type": "code",
   "execution_count": null,
   "metadata": {},
   "outputs": [],
   "source": [
    "donghee = Person('Donghee')"
   ]
  },
  {
   "cell_type": "code",
   "execution_count": null,
   "metadata": {},
   "outputs": [],
   "source": [
    "donghee.name"
   ]
  },
  {
   "cell_type": "code",
   "execution_count": null,
   "metadata": {},
   "outputs": [],
   "source": [
    "donghee.name = 'DH'"
   ]
  }
 ],
 "metadata": {
  "kernelspec": {
   "display_name": "Python 3",
   "language": "python",
   "name": "python3"
  },
  "language_info": {
   "codemirror_mode": {
    "name": "ipython",
    "version": 3
   },
   "file_extension": ".py",
   "mimetype": "text/x-python",
   "name": "python",
   "nbconvert_exporter": "python",
   "pygments_lexer": "ipython3",
   "version": "3.11.1"
  }
 },
 "nbformat": 4,
 "nbformat_minor": 2
}
